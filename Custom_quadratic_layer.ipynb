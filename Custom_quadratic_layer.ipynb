{
 "cells": [
  {
   "cell_type": "markdown",
   "metadata": {},
   "source": [
    "### Imports"
   ]
  },
  {
   "cell_type": "code",
   "execution_count": 1,
   "metadata": {},
   "outputs": [],
   "source": [
    "import tensorflow as tf\n",
    "from tensorflow.keras.layers import Layer"
   ]
  },
  {
   "cell_type": "markdown",
   "metadata": {},
   "source": [
    "### Define the quadratic layer"
   ]
  },
  {
   "cell_type": "code",
   "execution_count": 14,
   "metadata": {
    "colab": {},
    "colab_type": "code",
    "deletable": false,
    "id": "Ga20PttZFXm4",
    "nbgrader": {
     "cell_type": "code",
     "checksum": "687a4c4733c3c581631c2b476104b829",
     "grade": false,
     "grade_id": "cell-c302ddc177c098f8",
     "locked": false,
     "schema_version": 3,
     "solution": true,
     "task": false
    }
   },
   "outputs": [],
   "source": [
    "\n",
    "class SimpleQuadratic(Layer):\n",
    "\n",
    "    def __init__(self, units=32, activation=None):\n",
    "        '''Initializes the class and sets up the internal variables'''\n",
    "        super(SimpleQuadratic, self).__init__()\n",
    "        self.units = units\n",
    "        self.activation = tf.keras.activations.get(activation)\n",
    "    \n",
    "    def build(self, input_shape):\n",
    "        '''Create the state of the layer (weights)'''\n",
    "        init_a = tf.random_normal_initializer()\n",
    "        init_b = tf.random_normal_initializer()\n",
    "        init_c = tf.zeros_initializer()\n",
    "\n",
    "        init_a_val = init_a(shape=(input_shape[-1], self.units), dtype=tf.float32)\n",
    "        init_b_val = init_b(shape=(input_shape[-1], self.units), dtype=tf.float32)\n",
    "        init_c_val = init_c(shape=(self.units,), dtype=tf.float32)\n",
    "\n",
    "        self.a = tf.Variable(name='krnel_1', initial_value=init_a_val, trainable=True)\n",
    "        self.b = tf.Variable(name='krnel_1', initial_value=init_b_val, trainable=True)\n",
    "        self.c = tf.Variable(name='bias', initial_value=init_c_val, trainable=True)\n",
    "\n",
    "        super().build(input_shape)\n",
    "    \n",
    "   \n",
    "    def call(self, inputs):\n",
    "        '''Defines the computation from inputs to outputs'''\n",
    "        x_squared = tf.math.square(inputs)\n",
    "        x_squared_a = tf.matmul(x_squared, self.a)\n",
    "        x_times_b = tf.matmul(inputs, self.b)\n",
    "        return self.activation(x_squared_a + x_times_b + self.c)"
   ]
  },
  {
   "cell_type": "markdown",
   "metadata": {},
   "source": [
    "## Test Quadratic Layer on the MNIST Dataset\n",
    "Expected performance >95%"
   ]
  },
  {
   "cell_type": "code",
   "execution_count": 16,
   "metadata": {
    "colab": {},
    "colab_type": "code",
    "id": "14tl1CluExjJ"
   },
   "outputs": [
    {
     "name": "stdout",
     "output_type": "stream",
     "text": [
      "Train on 60000 samples\n",
      "Epoch 1/5\n",
      "60000/60000 [==============================] - 12s 207us/sample - loss: 0.2700 - accuracy: 0.9200\n",
      "Epoch 2/5\n",
      "60000/60000 [==============================] - 12s 198us/sample - loss: 0.1336 - accuracy: 0.9595\n",
      "Epoch 3/5\n",
      "60000/60000 [==============================] - 12s 201us/sample - loss: 0.1005 - accuracy: 0.9696\n",
      "Epoch 4/5\n",
      "60000/60000 [==============================] - 12s 198us/sample - loss: 0.0843 - accuracy: 0.9736\n",
      "Epoch 5/5\n",
      "60000/60000 [==============================] - 12s 195us/sample - loss: 0.0694 - accuracy: 0.9776\n",
      "10000/10000 [==============================] - 1s 65us/sample - loss: 0.0796 - accuracy: 0.9756\n"
     ]
    },
    {
     "data": {
      "text/plain": [
       "[0.0796146826795768, 0.9756]"
      ]
     },
     "execution_count": 16,
     "metadata": {},
     "output_type": "execute_result"
    }
   ],
   "source": [
    "\n",
    "mnist = tf.keras.datasets.mnist\n",
    "\n",
    "(x_train, y_train),(x_test, y_test) = mnist.load_data()\n",
    "x_train, x_test = x_train / 255.0, x_test / 255.0\n",
    "\n",
    "model = tf.keras.models.Sequential([\n",
    "  tf.keras.layers.Flatten(input_shape=(28, 28)),\n",
    "  SimpleQuadratic(128, activation='relu'),\n",
    "  tf.keras.layers.Dropout(0.2),\n",
    "  tf.keras.layers.Dense(10, activation='softmax')\n",
    "])\n",
    "\n",
    "model.compile(optimizer='adam',\n",
    "              loss='sparse_categorical_crossentropy',\n",
    "              metrics=['accuracy'])\n",
    "\n",
    "model.fit(x_train, y_train, epochs=5)\n",
    "model.evaluate(x_test, y_test)"
   ]
  },
  {
   "cell_type": "markdown",
   "metadata": {},
   "source": [
    "## Building Custom Loss Function with Keras API"
   ]
  },
  {
   "cell_type": "code",
   "execution_count": null,
   "metadata": {},
   "outputs": [],
   "source": [
    "from tensorflow.keras import backend as k\n",
    "\n",
    "def my_rmse(y_true, y_pred):\n",
    "    error = y_true - y_pred\n",
    "    square_error = k.square(error)\n",
    "    mean_square_error = k.mean(square_error)\n",
    "    root_mean_square_error = k.sqrt(mean_square_error)\n",
    "    return root_mean_square_error"
   ]
  }
 ],
 "metadata": {
  "colab": {
   "authorship_tag": "ABX9TyMTFXTWT0EUVuqg6u/LBbJK",
   "collapsed_sections": [],
   "include_colab_link": true,
   "name": "QuadraticLayer_Answer.ipynb",
   "provenance": []
  },
  "kernelspec": {
   "display_name": "Python 3",
   "language": "python",
   "name": "python3"
  },
  "language_info": {
   "codemirror_mode": {
    "name": "ipython",
    "version": 3
   },
   "file_extension": ".py",
   "mimetype": "text/x-python",
   "name": "python",
   "nbconvert_exporter": "python",
   "pygments_lexer": "ipython3",
   "version": "3.7.6"
  }
 },
 "nbformat": 4,
 "nbformat_minor": 4
}
